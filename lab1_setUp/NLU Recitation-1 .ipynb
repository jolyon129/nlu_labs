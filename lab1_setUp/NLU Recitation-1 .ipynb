{
 "cells": [
  {
   "cell_type": "markdown",
   "metadata": {},
   "source": [
    "# Exercise 1 DS-GA 1012"
   ]
  },
  {
   "cell_type": "markdown",
   "metadata": {},
   "source": [
    "# Preface\n",
    "\n",
    "This first exercise/homework is primarily meant to ensure that you have access to a machine with the software that you'll need for this course. Complete the assignment by filling in code where necessary using Jupyter!"
   ]
  },
  {
   "cell_type": "markdown",
   "metadata": {},
   "source": [
    "## What NumPy and PyTorch are and do"
   ]
  },
  {
   "cell_type": "markdown",
   "metadata": {},
   "source": [
    "Both NumPy and PyTorch are python packages that allow for complex scientific computing with NumPy array and Tensor objects. These objects allow the easy definition of vectorized and matrix-level operations. Researchers and programmers can use these tools to quickly prototype models which involve lots of matrix calculations such as deep neural networks. As you can imagine, these packages allow complex manipulations and will allow you to define things like computation graphs. "
   ]
  },
  {
   "cell_type": "markdown",
   "metadata": {},
   "source": [
    "'Tensors' and 'NumPy Arrays' are used as general terms to refer to an n-dimensional tensor or vector and have the same sorts of operations and properties. If some of the terms in the previous section aren't clear or don't make sense, that's okay and you will get a good handle of these as you work through the course!"
   ]
  },
  {
   "cell_type": "markdown",
   "metadata": {},
   "source": [
    "# Making sure everything works"
   ]
  },
  {
   "cell_type": "markdown",
   "metadata": {},
   "source": [
    "Before you can go any farther, you'll need to make sure you have NumPy and PyTorch installed. For some help with that, see here [INSERT LINK]\n",
    "\n",
    "Once the packages are installed, run the following commands,"
   ]
  },
  {
   "cell_type": "code",
   "execution_count": 2,
   "metadata": {
    "scrolled": true
   },
   "outputs": [],
   "source": [
    "import numpy as np"
   ]
  },
  {
   "cell_type": "markdown",
   "metadata": {},
   "source": [
    "If that worked as expected, you should be able to run the below a few times and get different outcomes each time."
   ]
  },
  {
   "cell_type": "code",
   "execution_count": 3,
   "metadata": {},
   "outputs": [
    {
     "data": {
      "text/plain": [
       "0.9629027288723141"
      ]
     },
     "execution_count": 3,
     "metadata": {},
     "output_type": "execute_result"
    }
   ],
   "source": [
    "np.random.rand()"
   ]
  },
  {
   "cell_type": "code",
   "execution_count": 4,
   "metadata": {},
   "outputs": [
    {
     "data": {
      "text/plain": [
       "0.7785238870663048"
      ]
     },
     "execution_count": 4,
     "metadata": {},
     "output_type": "execute_result"
    }
   ],
   "source": [
    "np.random.rand()"
   ]
  },
  {
   "cell_type": "markdown",
   "metadata": {},
   "source": [
    "Now let's try importing and testing PyTorch."
   ]
  },
  {
   "cell_type": "code",
   "execution_count": 5,
   "metadata": {},
   "outputs": [],
   "source": [
    "import torch"
   ]
  },
  {
   "cell_type": "markdown",
   "metadata": {},
   "source": [
    "First we define some tensor variables."
   ]
  },
  {
   "cell_type": "code",
   "execution_count": 6,
   "metadata": {},
   "outputs": [],
   "source": [
    "x = torch.rand(10,5)\n",
    "w = torch.rand(2,10)\n",
    "\n",
    "y = torch"
   ]
  },
  {
   "cell_type": "markdown",
   "metadata": {},
   "source": [
    "Then we check their sizes:"
   ]
  },
  {
   "cell_type": "code",
   "execution_count": 7,
   "metadata": {},
   "outputs": [
    {
     "name": "stdout",
     "output_type": "stream",
     "text": [
      "torch.Size([10, 5])\n",
      "torch.Size([2, 10])\n"
     ]
    }
   ],
   "source": [
    "print(x.size())\n",
    "print(w.size())"
   ]
  },
  {
   "cell_type": "markdown",
   "metadata": {},
   "source": [
    "Then lets multiply these tensors and store in a variable y:"
   ]
  },
  {
   "cell_type": "code",
   "execution_count": 8,
   "metadata": {},
   "outputs": [
    {
     "name": "stdout",
     "output_type": "stream",
     "text": [
      "tensor([[2.8027, 2.6294, 2.1551, 2.7879, 1.8008],\n",
      "        [2.4267, 2.1846, 2.6856, 2.8341, 2.3629]])\n"
     ]
    }
   ],
   "source": [
    "y = torch.matmul(w,x)\n",
    "print(y)"
   ]
  },
  {
   "cell_type": "markdown",
   "metadata": {},
   "source": [
    "You can operate on tensors easily!"
   ]
  },
  {
   "cell_type": "code",
   "execution_count": 9,
   "metadata": {},
   "outputs": [
    {
     "name": "stdout",
     "output_type": "stream",
     "text": [
      "tensor([[1.4291, 0.7176, 1.3768, 0.5538, 0.9239],\n",
      "        [1.0210, 0.4996, 1.0168, 0.8318, 0.2670],\n",
      "        [1.4106, 1.0108, 1.2782, 0.6946, 1.2041],\n",
      "        [1.0502, 0.6441, 0.8556, 1.6262, 0.6231],\n",
      "        [0.9296, 0.8330, 0.5869, 1.1510, 1.4083],\n",
      "        [0.6372, 0.8850, 1.2736, 0.5684, 0.9985],\n",
      "        [0.5810, 1.1300, 1.3204, 1.3103, 0.8114],\n",
      "        [1.3085, 1.2818, 0.8390, 1.2725, 0.7058],\n",
      "        [1.1220, 1.2282, 0.6200, 1.3005, 0.9295],\n",
      "        [0.6178, 0.3816, 1.4920, 1.0970, 1.4167]])\n",
      "tensor([[1.4291, 0.7176, 1.3768, 0.5538, 0.9239],\n",
      "        [1.0210, 0.4996, 1.0168, 0.8318, 0.2670],\n",
      "        [1.4106, 1.0108, 1.2782, 0.6946, 1.2041],\n",
      "        [1.0502, 0.6441, 0.8556, 1.6262, 0.6231],\n",
      "        [0.9296, 0.8330, 0.5869, 1.1510, 1.4083],\n",
      "        [0.6372, 0.8850, 1.2736, 0.5684, 0.9985],\n",
      "        [0.5810, 1.1300, 1.3204, 1.3103, 0.8114],\n",
      "        [1.3085, 1.2818, 0.8390, 1.2725, 0.7058],\n",
      "        [1.1220, 1.2282, 0.6200, 1.3005, 0.9295],\n",
      "        [0.6178, 0.3816, 1.4920, 1.0970, 1.4167]])\n"
     ]
    }
   ],
   "source": [
    "z = torch.rand(10,5)\n",
    "print(x + z)\n",
    "print(torch.add(x,z))"
   ]
  },
  {
   "cell_type": "markdown",
   "metadata": {},
   "source": [
    "Unlike TensorFlow computation is done in place and not in a session, so you can see the tensor computation as you go. This makes debugging and general model building much easier!"
   ]
  },
  {
   "cell_type": "markdown",
   "metadata": {},
   "source": [
    "## In-class exercise  \n",
    "(taken from Sam's F16 3340.002 Exercise 1)\n",
    "\n",
    "### Part 1:"
   ]
  },
  {
   "cell_type": "markdown",
   "metadata": {},
   "source": [
    "Write a python function using NumPy to compute the following function of `x`. You can set $\\mu$ to 0 and $\\sigma$ to 1. This happens to be the probability density function for a normal distribution, but we're just using it as an arbitrary demo, and you shouldn't use any preexisting code for this particular distribution. You'll likely need to search for relevant NumPy documentation."
   ]
  },
  {
   "cell_type": "markdown",
   "metadata": {},
   "source": [
    "$$ \\frac{1}{2\\sigma^2\\pi} e^{-\\frac{(x-\\mu)^2}{2\\sigma^2}} $$"
   ]
  },
  {
   "cell_type": "code",
   "execution_count": 10,
   "metadata": {},
   "outputs": [],
   "source": [
    "def np_fn(x):\n",
    "    \"\"\"\n",
    "    x is input vector\n",
    "    \"\"\"\n",
    "    # Replace with your code.\n",
    "    pass "
   ]
  },
  {
   "cell_type": "markdown",
   "metadata": {},
   "source": [
    "Assume `x` is a vector. You should be able to run the following command and get the subsequent result:"
   ]
  },
  {
   "cell_type": "code",
   "execution_count": 11,
   "metadata": {},
   "outputs": [],
   "source": [
    "x = np.array([0, 1, 2, 3])\n",
    "np_fn(x)"
   ]
  },
  {
   "cell_type": "markdown",
   "metadata": {},
   "source": [
    "Expected output: `array([ [0.15915494 0.09653235 0.02153928 0.00176805]])\n",
    "`"
   ]
  },
  {
   "cell_type": "markdown",
   "metadata": {},
   "source": [
    "### Part 2:\n",
    "Now try to write the same function (`pytorch_fn(x)`) in PyTorch."
   ]
  },
  {
   "cell_type": "code",
   "execution_count": 12,
   "metadata": {},
   "outputs": [],
   "source": [
    "def pytorch_fn(x):\n",
    "    \"\"\"\n",
    "    x is an input float tensor\n",
    "    \"\"\"\n",
    "    # Replace with your code.\n",
    "    pass"
   ]
  },
  {
   "cell_type": "markdown",
   "metadata": {},
   "source": [
    "You should be able to run command below, and get the same output as above. This is quite straight forward and may (probably should) look very similar to np_fn!"
   ]
  },
  {
   "cell_type": "code",
   "execution_count": 13,
   "metadata": {},
   "outputs": [],
   "source": [
    "x = torch.FloatTensor([0,1,2,3])\n",
    "pytorch_fn(x)"
   ]
  },
  {
   "cell_type": "markdown",
   "metadata": {
    "collapsed": true
   },
   "source": [
    "Credits: Much of this was taken from Sam Bowman's TensorFlow Ex1 for F16 3340.002."
   ]
  },
  {
   "cell_type": "markdown",
   "metadata": {},
   "source": [
    "### Part 3:\n",
    "\n",
    "Do a linear regression using numpy! Import whatever packages you see fit."
   ]
  },
  {
   "cell_type": "code",
   "execution_count": 4,
   "metadata": {},
   "outputs": [],
   "source": [
    "x = np.random.random(10)\n",
    "y = np.random.random(10)\n",
    "\n",
    "# Your code! #"
   ]
  },
  {
   "cell_type": "code",
   "execution_count": 3,
   "metadata": {},
   "outputs": [
    {
     "name": "stdout",
     "output_type": "stream",
     "text": [
      "r-squared: 0.009421204405005334\n"
     ]
    }
   ],
   "source": [
    "print(\"r-squared:\", r_value**2)"
   ]
  }
 ],
 "metadata": {
  "kernelspec": {
   "display_name": "Python 3",
   "language": "python",
   "name": "python3"
  },
  "language_info": {
   "codemirror_mode": {
    "name": "ipython",
    "version": 3
   },
   "file_extension": ".py",
   "mimetype": "text/x-python",
   "name": "python",
   "nbconvert_exporter": "python",
   "pygments_lexer": "ipython3",
   "version": "3.6.4"
  }
 },
 "nbformat": 4,
 "nbformat_minor": 1
}
