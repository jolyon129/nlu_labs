{
 "cells": [
  {
   "cell_type": "markdown",
   "metadata": {},
   "source": [
    "# Lexical Semantics: WordNet (recitation-3)"
   ]
  },
  {
   "cell_type": "markdown",
   "metadata": {},
   "source": [
    "_Much of this is taken from Chris Potts' <a href=\"http://compprag.christopherpotts.net/wordnet.html\">2011 LSA course</a>._"
   ]
  },
  {
   "cell_type": "markdown",
   "metadata": {},
   "source": [
    "This exercise is intended for you to get familiar with WordNet and some of its functionalities. In particular, you will learn how to extract synsets, relations between them, and the lemmas associated with them."
   ]
  },
  {
   "cell_type": "markdown",
   "metadata": {},
   "source": [
    "## Download instructions"
   ]
  },
  {
   "cell_type": "markdown",
   "metadata": {},
   "source": [
    "We will be using the <a href=\"http://www.nltk.org/howto/wordnet.html\">NLTK WordNet module</a>.\n",
    "\n",
    "\n",
    "To download NLTK, run the following command on your terminal:"
   ]
  },
  {
   "cell_type": "raw",
   "metadata": {},
   "source": [
    "conda install -c anaconda nltk"
   ]
  },
  {
   "cell_type": "markdown",
   "metadata": {},
   "source": [
    "Then run the following commands:"
   ]
  },
  {
   "cell_type": "code",
   "execution_count": 1,
   "metadata": {},
   "outputs": [
    {
     "name": "stdout",
     "output_type": "stream",
     "text": [
      "showing info https://raw.githubusercontent.com/nltk/nltk_data/gh-pages/index.xml\n"
     ]
    },
    {
     "data": {
      "text/plain": [
       "True"
      ]
     },
     "execution_count": 1,
     "metadata": {},
     "output_type": "execute_result"
    }
   ],
   "source": [
    "import nltk\n",
    "nltk.download()"
   ]
  },
  {
   "cell_type": "markdown",
   "metadata": {},
   "source": [
    "In the window that appears, click on the \"corpora\" tab and download \"wordnet\"."
   ]
  },
  {
   "cell_type": "markdown",
   "metadata": {},
   "source": [
    "Load the WordNet module, which provides access to the structure of WordNet:"
   ]
  },
  {
   "cell_type": "code",
   "execution_count": 1,
   "metadata": {},
   "outputs": [],
   "source": [
    "from nltk.corpus import wordnet as wn"
   ]
  },
  {
   "cell_type": "markdown",
   "metadata": {},
   "source": [
    "## The structure of WordNet"
   ]
  },
  {
   "cell_type": "markdown",
   "metadata": {},
   "source": [
    "The two most important WordNet constructs are lemmas and synsets:\n",
    "\n",
    "0. __Lemma__: near to the linguistic concept of a word. Lemmas are identified by strings like `firm.s.10.fast`, where: \n",
    " * `fast` is the morphological form of the lemma\n",
    " * `firm` is the stem identifier for the synset containing this lemma\n",
    " * `s` is the WordNet part of speech (`n`: noun, `v`: verb, `a`: adjective, `s`: adjective satellite, `r`: adverb)\n",
    " * `10` is the sense number (sense `01` is considered the primary sense)\n",
    "<br><br>\n",
    "0. __Synset__: A collection of synonyms, i.e. Lemmas that are synonymous (by the standards of WordNet). Synsets are identified by strings like `firm.s.10` where:\n",
    " * `firm` is the canonical string name\n",
    " * `s` is the WordNet part of speech\n",
    " * `10` is the sense number"
   ]
  },
  {
   "cell_type": "markdown",
   "metadata": {},
   "source": [
    "###  Synset lists"
   ]
  },
  {
   "cell_type": "markdown",
   "metadata": {},
   "source": [
    "The function `wn.synsets()` returns the list of Synset objects compatible with the string, or string–tag pair, provided.\n",
    "\n"
   ]
  },
  {
   "cell_type": "code",
   "execution_count": 2,
   "metadata": {},
   "outputs": [
    {
     "data": {
      "text/plain": [
       "[Synset('fast.n.01'),\n",
       " Synset('fast.v.01'),\n",
       " Synset('fast.v.02'),\n",
       " Synset('fast.a.01'),\n",
       " Synset('fast.a.02'),\n",
       " Synset('fast.a.03'),\n",
       " Synset('fast.s.04'),\n",
       " Synset('fast.s.05'),\n",
       " Synset('debauched.s.01'),\n",
       " Synset('flying.s.02'),\n",
       " Synset('fast.s.08'),\n",
       " Synset('firm.s.10'),\n",
       " Synset('fast.s.10'),\n",
       " Synset('fast.r.01'),\n",
       " Synset('fast.r.02')]"
      ]
     },
     "execution_count": 2,
     "metadata": {},
     "output_type": "execute_result"
    }
   ],
   "source": [
    "#list of synsets containing the lemma \"fast\"\n",
    "wn.synsets('fast')"
   ]
  },
  {
   "cell_type": "code",
   "execution_count": 3,
   "metadata": {},
   "outputs": [
    {
     "data": {
      "text/plain": [
       "[Synset('fast.a.01'),\n",
       " Synset('fast.a.02'),\n",
       " Synset('fast.a.03'),\n",
       " Synset('fast.s.04'),\n",
       " Synset('fast.s.05'),\n",
       " Synset('debauched.s.01'),\n",
       " Synset('flying.s.02'),\n",
       " Synset('fast.s.08'),\n",
       " Synset('firm.s.10'),\n",
       " Synset('fast.s.10')]"
      ]
     },
     "execution_count": 3,
     "metadata": {},
     "output_type": "execute_result"
    }
   ],
   "source": [
    "#list of synsets containing adjectives and the lemma \"fast\"\n",
    "wn.synsets('fast', 'a')"
   ]
  },
  {
   "cell_type": "code",
   "execution_count": 4,
   "metadata": {},
   "outputs": [
    {
     "data": {
      "text/plain": [
       "[Synset('fast.v.01'), Synset('fast.v.02')]"
      ]
     },
     "execution_count": 4,
     "metadata": {},
     "output_type": "execute_result"
    }
   ],
   "source": [
    "#list of synsets containing verbs and the lemma \"fast\"\n",
    "wn.synsets('fast', 'v')"
   ]
  },
  {
   "cell_type": "code",
   "execution_count": 5,
   "metadata": {},
   "outputs": [
    {
     "data": {
      "text/plain": [
       "[Synset('fast.n.01')]"
      ]
     },
     "execution_count": 5,
     "metadata": {},
     "output_type": "execute_result"
    }
   ],
   "source": [
    "#list of synsets containing nouns and the lemma \"fast\"\n",
    "wn.synsets('fast', 'n')"
   ]
  },
  {
   "cell_type": "code",
   "execution_count": 6,
   "metadata": {},
   "outputs": [
    {
     "data": {
      "text/plain": [
       "[Synset('fast.r.01'), Synset('fast.r.02')]"
      ]
     },
     "execution_count": 6,
     "metadata": {},
     "output_type": "execute_result"
    }
   ],
   "source": [
    "#list of synsets containing adverbs and the lemma \"fast\"\n",
    "wn.synsets('fast', 'r')"
   ]
  },
  {
   "cell_type": "markdown",
   "metadata": {},
   "source": [
    "The first member of these lists is the primary (most frequent) sense for the input supplied.\n",
    "\n"
   ]
  },
  {
   "cell_type": "markdown",
   "metadata": {
    "collapsed": true
   },
   "source": [
    "### Synsets"
   ]
  },
  {
   "cell_type": "markdown",
   "metadata": {
    "collapsed": true
   },
   "source": [
    "Let's take one of the synsets returned by `wn.synsets('fast', 'a')`, and see what kind of information we can extract from it."
   ]
  },
  {
   "cell_type": "code",
   "execution_count": 7,
   "metadata": {},
   "outputs": [
    {
     "data": {
      "text/plain": [
       "Synset('debauched.s.01')"
      ]
     },
     "execution_count": 7,
     "metadata": {},
     "output_type": "execute_result"
    }
   ],
   "source": [
    "fast_adj_synsets = wn.synsets('fast', 'a')\n",
    "fast_adj_synsets[5] #the sixth synset containing the adjective 'fast'"
   ]
  },
  {
   "cell_type": "code",
   "execution_count": 8,
   "metadata": {},
   "outputs": [
    {
     "data": {
      "text/plain": [
       "'unrestrained by convention or morality'"
      ]
     },
     "execution_count": 8,
     "metadata": {},
     "output_type": "execute_result"
    }
   ],
   "source": [
    "debauched = fast_adj_synsets[5]\n",
    "debauched.definition()"
   ]
  },
  {
   "cell_type": "code",
   "execution_count": 9,
   "metadata": {},
   "outputs": [
    {
     "data": {
      "text/plain": [
       "[Lemma('debauched.s.01.debauched'),\n",
       " Lemma('debauched.s.01.degenerate'),\n",
       " Lemma('debauched.s.01.degraded'),\n",
       " Lemma('debauched.s.01.dissipated'),\n",
       " Lemma('debauched.s.01.dissolute'),\n",
       " Lemma('debauched.s.01.libertine'),\n",
       " Lemma('debauched.s.01.profligate'),\n",
       " Lemma('debauched.s.01.riotous'),\n",
       " Lemma('debauched.s.01.fast')]"
      ]
     },
     "execution_count": 9,
     "metadata": {},
     "output_type": "execute_result"
    }
   ],
   "source": [
    "debauched.lemmas()"
   ]
  },
  {
   "cell_type": "code",
   "execution_count": 10,
   "metadata": {},
   "outputs": [
    {
     "data": {
      "text/plain": [
       "['Congreve draws a debauched aristocratic society',\n",
       " 'deplorably dissipated and degraded',\n",
       " 'riotous living',\n",
       " 'fast women']"
      ]
     },
     "execution_count": 10,
     "metadata": {},
     "output_type": "execute_result"
    }
   ],
   "source": [
    "debauched.examples()"
   ]
  },
  {
   "cell_type": "code",
   "execution_count": 11,
   "metadata": {},
   "outputs": [
    {
     "data": {
      "text/plain": [
       "'s'"
      ]
     },
     "execution_count": 11,
     "metadata": {},
     "output_type": "execute_result"
    }
   ],
   "source": [
    "debauched.pos() #what part of speech is associated with synset 'debauched'?"
   ]
  },
  {
   "cell_type": "markdown",
   "metadata": {},
   "source": [
    "### Relations between synsets"
   ]
  },
  {
   "cell_type": "markdown",
   "metadata": {},
   "source": [
    "Relations between synsets can be extracted via functions such as the following:"
   ]
  },
  {
   "cell_type": "markdown",
   "metadata": {},
   "source": [
    "The synset \"debauched\" appears to have no hypernyms. With nouns we should have more luck:"
   ]
  },
  {
   "cell_type": "code",
   "execution_count": 13,
   "metadata": {},
   "outputs": [
    {
     "data": {
      "text/plain": [
       "[Synset('motorcycle.n.01'), Synset('bicycle.n.01')]"
      ]
     },
     "execution_count": 13,
     "metadata": {},
     "output_type": "execute_result"
    }
   ],
   "source": [
    "wn.synsets('bike', 'n') #list of synsets containing the noun 'bike'"
   ]
  },
  {
   "cell_type": "code",
   "execution_count": 127,
   "metadata": {},
   "outputs": [
    {
     "data": {
      "text/plain": [
       "[Synset('motorcycle.n.01'), Synset('bicycle.n.01'), Synset('bicycle.v.01')]"
      ]
     },
     "execution_count": 127,
     "metadata": {},
     "output_type": "execute_result"
    }
   ],
   "source": [
    "wn.synsets('bike')"
   ]
  },
  {
   "cell_type": "code",
   "execution_count": 14,
   "metadata": {},
   "outputs": [
    {
     "data": {
      "text/plain": [
       "[Synset('wheeled_vehicle.n.01')]"
      ]
     },
     "execution_count": 14,
     "metadata": {},
     "output_type": "execute_result"
    }
   ],
   "source": [
    "bike = wn.synsets('bike', 'n')[1]\n",
    "bike.hypernyms() "
   ]
  },
  {
   "cell_type": "code",
   "execution_count": 15,
   "metadata": {},
   "outputs": [
    {
     "data": {
      "text/plain": [
       "[Synset('bicycle-built-for-two.n.01'),\n",
       " Synset('mountain_bike.n.01'),\n",
       " Synset('ordinary.n.04'),\n",
       " Synset('push-bike.n.01'),\n",
       " Synset('safety_bicycle.n.01'),\n",
       " Synset('velocipede.n.01')]"
      ]
     },
     "execution_count": 15,
     "metadata": {},
     "output_type": "execute_result"
    }
   ],
   "source": [
    "bike.hyponyms()"
   ]
  },
  {
   "cell_type": "code",
   "execution_count": 16,
   "metadata": {},
   "outputs": [
    {
     "data": {
      "text/plain": [
       "[]"
      ]
     },
     "execution_count": 16,
     "metadata": {},
     "output_type": "execute_result"
    }
   ],
   "source": [
    "bike.member_holonyms()"
   ]
  },
  {
   "cell_type": "markdown",
   "metadata": {},
   "source": [
    "The function `bike.root_hypernyms()` returns the most abstract/general class that contains \"bike\". Check what it is for other nouns."
   ]
  },
  {
   "cell_type": "code",
   "execution_count": 17,
   "metadata": {},
   "outputs": [
    {
     "data": {
      "text/plain": [
       "[Synset('entity.n.01')]"
      ]
     },
     "execution_count": 17,
     "metadata": {},
     "output_type": "execute_result"
    }
   ],
   "source": [
    "bike.root_hypernyms()"
   ]
  },
  {
   "cell_type": "markdown",
   "metadata": {},
   "source": [
    "### Lemma Lists"
   ]
  },
  {
   "cell_type": "markdown",
   "metadata": {},
   "source": [
    "Parallel to `wn.synsets()`, the function `wn.lemmas()` will take you from strings to lists of Lemma objects:"
   ]
  },
  {
   "cell_type": "code",
   "execution_count": 18,
   "metadata": {},
   "outputs": [
    {
     "data": {
      "text/plain": [
       "[Lemma('fast.n.01.fast'),\n",
       " Lemma('fast.v.01.fast'),\n",
       " Lemma('fast.v.02.fast'),\n",
       " Lemma('fast.a.01.fast'),\n",
       " Lemma('fast.a.02.fast'),\n",
       " Lemma('fast.a.03.fast'),\n",
       " Lemma('fast.s.04.fast'),\n",
       " Lemma('fast.s.05.fast'),\n",
       " Lemma('debauched.s.01.fast'),\n",
       " Lemma('flying.s.02.fast'),\n",
       " Lemma('fast.s.08.fast'),\n",
       " Lemma('firm.s.10.fast'),\n",
       " Lemma('fast.s.10.fast'),\n",
       " Lemma('fast.r.01.fast'),\n",
       " Lemma('fast.r.02.fast')]"
      ]
     },
     "execution_count": 18,
     "metadata": {},
     "output_type": "execute_result"
    }
   ],
   "source": [
    "wn.lemmas('fast')"
   ]
  },
  {
   "cell_type": "code",
   "execution_count": 19,
   "metadata": {},
   "outputs": [
    {
     "data": {
      "text/plain": [
       "[Lemma('fast.a.01.fast'),\n",
       " Lemma('fast.a.02.fast'),\n",
       " Lemma('fast.a.03.fast'),\n",
       " Lemma('fast.s.04.fast'),\n",
       " Lemma('fast.s.05.fast'),\n",
       " Lemma('debauched.s.01.fast'),\n",
       " Lemma('flying.s.02.fast'),\n",
       " Lemma('fast.s.08.fast'),\n",
       " Lemma('firm.s.10.fast'),\n",
       " Lemma('fast.s.10.fast')]"
      ]
     },
     "execution_count": 19,
     "metadata": {},
     "output_type": "execute_result"
    }
   ],
   "source": [
    "wn.lemmas('fast', 'a')"
   ]
  },
  {
   "cell_type": "markdown",
   "metadata": {},
   "source": [
    "### Lemmas"
   ]
  },
  {
   "cell_type": "markdown",
   "metadata": {},
   "source": [
    "Remember, the objects in a Synset list are Lemmas."
   ]
  },
  {
   "cell_type": "code",
   "execution_count": 20,
   "metadata": {},
   "outputs": [
    {
     "data": {
      "text/plain": [
       "[Lemma('debauched.s.01.debauched'),\n",
       " Lemma('debauched.s.01.degenerate'),\n",
       " Lemma('debauched.s.01.degraded'),\n",
       " Lemma('debauched.s.01.dissipated'),\n",
       " Lemma('debauched.s.01.dissolute'),\n",
       " Lemma('debauched.s.01.libertine'),\n",
       " Lemma('debauched.s.01.profligate'),\n",
       " Lemma('debauched.s.01.riotous'),\n",
       " Lemma('debauched.s.01.fast')]"
      ]
     },
     "execution_count": 20,
     "metadata": {},
     "output_type": "execute_result"
    }
   ],
   "source": [
    "debauched.lemmas()"
   ]
  },
  {
   "cell_type": "code",
   "execution_count": 21,
   "metadata": {},
   "outputs": [],
   "source": [
    "libertine = debauched.lemmas()[5]"
   ]
  },
  {
   "cell_type": "code",
   "execution_count": 22,
   "metadata": {},
   "outputs": [
    {
     "data": {
      "text/plain": [
       "'unrestrained by convention or morality'"
      ]
     },
     "execution_count": 22,
     "metadata": {},
     "output_type": "execute_result"
    }
   ],
   "source": [
    "libertine.synset().definition()"
   ]
  },
  {
   "cell_type": "markdown",
   "metadata": {},
   "source": [
    "### A high-level perspective on the WordNet database"
   ]
  },
  {
   "cell_type": "markdown",
   "metadata": {},
   "source": [
    "All of the above manipulations can be done with the Web or command-line interface to WordNet itself. The power of working within a full programming language is that we can also take a high-level perspective on the data. For example, the following code looks at the distribution of Synsets by part-of-speech (pos) category:"
   ]
  },
  {
   "cell_type": "code",
   "execution_count": 23,
   "metadata": {},
   "outputs": [
    {
     "name": "stdout",
     "output_type": "stream",
     "text": [
      "a 7463\n",
      "s 10693\n",
      "r 3621\n",
      "n 82115\n",
      "v 13767\n",
      "Total 117659\n"
     ]
    }
   ],
   "source": [
    "from collections import defaultdict\n",
    " \n",
    "def wn_pos_dist():\n",
    "    \"\"\"Count the Synsets in each WordNet POS category.\"\"\"\n",
    "    # One-dimensional count dict with 0 as the default value:\n",
    "    cats = defaultdict(int)\n",
    "    # The counting loop:\n",
    "    for synset in wn.all_synsets():\n",
    "        cats[synset.pos()] += 1\n",
    "    # Print the results to the screen:\n",
    "    for tag, count in cats.items():\n",
    "        print(tag, count)\n",
    "    # Total number (sum of the above):\n",
    "    print('Total', sum(cats.values()))\n",
    "    \n",
    "wn_pos_dist()"
   ]
  },
  {
   "cell_type": "markdown",
   "metadata": {},
   "source": [
    "## Exercises\n",
    "\n",
    "__1\\.__ Find the 5 synsets that have the most:\n",
    "- hypernyms\n",
    "- hyponyms\n",
    "- antonyms\n",
    "- holonyms\n",
    "- meronyms\n",
    "- entailments\n",
    "- causes\n",
    "\n",
    "Are some relations more common for certain parts of speech?"
   ]
  },
  {
   "cell_type": "code",
   "execution_count": 1,
   "metadata": {},
   "outputs": [],
   "source": [
    "# Your code goes here"
   ]
  },
  {
   "cell_type": "markdown",
   "metadata": {},
   "source": [
    "__2\\.__  Pick a domain (e.g., mammals, sciences, vehicles).\n",
    "* Use `lowest_common_hypernyms()` to explore pairs of Synsets in your domain. Do the return values generally belong specifically to your domain, or are they more/overly general?\n",
    "* Based on the above findings, provide an overall assessment of WordNet's coverage in your chosen domain."
   ]
  },
  {
   "cell_type": "code",
   "execution_count": 166,
   "metadata": {},
   "outputs": [
    {
     "data": {
      "text/plain": [
       "[Synset('carnivore.n.01')]"
      ]
     },
     "execution_count": 166,
     "metadata": {},
     "output_type": "execute_result"
    }
   ],
   "source": [
    "# Your code goes here"
   ]
  },
  {
   "cell_type": "markdown",
   "metadata": {},
   "source": [
    "__3\\.__ NLTK provides a number of path similarity measures for Synsets, via its WordNetCorpusReader class. For example:"
   ]
  },
  {
   "cell_type": "code",
   "execution_count": 24,
   "metadata": {},
   "outputs": [
    {
     "data": {
      "text/plain": [
       "0.16666666666666666"
      ]
     },
     "execution_count": 24,
     "metadata": {},
     "output_type": "execute_result"
    }
   ],
   "source": [
    "tree = wn.synsets('tree', 'n')[0]\n",
    "flower = wn.synsets('flower', 'n')[0]\n",
    "wn.path_similarity(tree, flower)"
   ]
  },
  {
   "cell_type": "markdown",
   "metadata": {},
   "source": [
    "Similarity measures in WordNet:-\n",
    "\n",
    "- Path Similarity:  Return a score denoting how similar two word senses are, based on the shortest path that connects the senses in the is-a (hypernym/hypnoym) taxonomy. The score is in the range 0 to 1.\n",
    "\n",
    "- Leacock-Chodorow Similarity: Return a score denoting how similar two word senses are, based on the shortest path that connects the senses and the maximum depth of the taxonomy in which the senses occur.\n",
    "\n",
    "- Wu-Palmer Similarity: Return a score denoting how similar two word senses are, based on the depth of the two senses in the taxonomy and that of their Least Common Subsumer (most specific ancestor node).\n",
    "\n",
    "- Resnik Similarity: Return a score denoting how similar two word senses are, based on the Information Content (IC) of the Least Common Subsumer (most specific ancestor node).\n",
    " \n",
    "- Lin Similarity: Return a score denoting how similar two word senses are, based on the Information Content (IC) of the Least Common Subsumer (most specific ancestor node) and that of the two input Synsets."
   ]
  },
  {
   "cell_type": "markdown",
   "metadata": {},
   "source": [
    "Pick a domain (e.g., mammals, sciences, vehicles). Check on the path similarity of pairs of things inside and outside your domain. Do the results make sense? Compare different similarity measures and comment on your observations."
   ]
  },
  {
   "cell_type": "code",
   "execution_count": 168,
   "metadata": {},
   "outputs": [],
   "source": [
    "# Your code goes here"
   ]
  }
 ],
 "metadata": {
  "kernelspec": {
   "display_name": "Python 3",
   "language": "python",
   "name": "python3"
  },
  "language_info": {
   "codemirror_mode": {
    "name": "ipython",
    "version": 3
   },
   "file_extension": ".py",
   "mimetype": "text/x-python",
   "name": "python",
   "nbconvert_exporter": "python",
   "pygments_lexer": "ipython3",
   "version": "3.6.4"
  }
 },
 "nbformat": 4,
 "nbformat_minor": 2
}
